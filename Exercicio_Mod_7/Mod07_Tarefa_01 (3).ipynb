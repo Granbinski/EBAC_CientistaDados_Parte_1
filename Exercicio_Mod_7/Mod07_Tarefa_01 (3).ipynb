{
  "cells": [
    {
      "cell_type": "markdown",
      "metadata": {
        "id": "MVABTh7fLDZg"
      },
      "source": [
        "# Módulo 07, Tarefa 01\n",
        "\n",
        "Vamos começar a mexer na nossa base de projeto? Já fizemos um exercício de montar a variável resposta, já pudemos perceber que essa atividade pode não ser trivial. Vamos agora trabalhar a base para que fique propícia ao *scikitlearn* para trabalharmos.\n",
        "\n",
        "Lembrando, a base se chama demo01.csv, e originalmente está publicada [aqui](https://www.kaggle.com/rikdifos/credit-card-approval-prediction)."
      ]
    },
    {
      "cell_type": "markdown",
      "metadata": {
        "id": "_MftU-YBLDZh"
      },
      "source": [
        "#### 1) Carregue a base e avalie:\n",
        "\n",
        "- As variáveis\n",
        "- Tipos de dados de cada variável\n",
        "- Quantidade de missings\n",
        "- Distribuição da variável resposta (mau)"
      ]
    },
    {
      "cell_type": "code",
      "execution_count": 13,
      "metadata": {
        "colab": {
          "base_uri": "https://localhost:8080/"
        },
        "id": "94PEPsHCLDZi",
        "outputId": "33f99fcb-a51c-4170-c4dc-954fada21857"
      },
      "outputs": [
        {
          "output_type": "stream",
          "name": "stdout",
          "text": [
            "ID                       int64\n",
            "CODE_GENDER             object\n",
            "FLAG_OWN_CAR            object\n",
            "FLAG_OWN_REALTY         object\n",
            "CNT_CHILDREN             int64\n",
            "AMT_INCOME_TOTAL       float64\n",
            "NAME_INCOME_TYPE        object\n",
            "NAME_EDUCATION_TYPE     object\n",
            "NAME_FAMILY_STATUS      object\n",
            "NAME_HOUSING_TYPE       object\n",
            "DAYS_BIRTH               int64\n",
            "DAYS_EMPLOYED            int64\n",
            "FLAG_MOBIL               int64\n",
            "FLAG_WORK_PHONE          int64\n",
            "FLAG_PHONE               int64\n",
            "FLAG_EMAIL               int64\n",
            "OCCUPATION_TYPE         object\n",
            "CNT_FAM_MEMBERS        float64\n",
            "dtype: object\n",
            "ID                 int64\n",
            "MONTHS_BALANCE     int64\n",
            "STATUS            object\n",
            "dtype: object\n",
            "ID                          0\n",
            "CODE_GENDER                 0\n",
            "FLAG_OWN_CAR                0\n",
            "FLAG_OWN_REALTY             0\n",
            "CNT_CHILDREN                0\n",
            "AMT_INCOME_TOTAL            0\n",
            "NAME_INCOME_TYPE            0\n",
            "NAME_EDUCATION_TYPE         0\n",
            "NAME_FAMILY_STATUS          0\n",
            "NAME_HOUSING_TYPE           0\n",
            "DAYS_BIRTH                  0\n",
            "DAYS_EMPLOYED               0\n",
            "FLAG_MOBIL                  0\n",
            "FLAG_WORK_PHONE             0\n",
            "FLAG_PHONE                  0\n",
            "FLAG_EMAIL                  0\n",
            "OCCUPATION_TYPE        134203\n",
            "CNT_FAM_MEMBERS             0\n",
            "dtype: int64\n",
            "ID                0\n",
            "MONTHS_BALANCE    0\n",
            "STATUS            0\n",
            "dtype: int64\n",
            "0    0.985117\n",
            "1    0.014883\n",
            "Name: mau, dtype: float64\n"
          ]
        }
      ],
      "source": [
        "import pandas as pd\n",
        "import numpy as np\n",
        "\n",
        "application_record = pd.read_csv('application_record.csv')\n",
        "credit_record = pd.read_csv('credit_record.csv')\n",
        "\n",
        "print(application_record.dtypes)\n",
        "print(credit_record.dtypes)\n",
        "\n",
        "print(application_record.isnull().sum())\n",
        "print(credit_record.isnull().sum())\n",
        "\n",
        "df = pd.merge(application_record, credit_record, on='ID')\n",
        "\n",
        "df['mau'] = df['STATUS'].apply(lambda x: 1 if x in ['1', '2', '3', '4', '5'] else 0)\n",
        "\n",
        "print(df['mau'].value_counts(normalize=True))\n"
      ]
    },
    {
      "cell_type": "markdown",
      "metadata": {
        "id": "LjgerFo2LDZi"
      },
      "source": [
        "#### 2) Vamos montar um metadados\n",
        "\n",
        "2.1. Crie um dataframe com os nomes de cada variável e o tipo de dados de cada variável.\n",
        "2.2. Adicione uma coluna nesse *dataframe* chamada \"qtd_categorias\" e coloque nela o número de categorias correspondente de cada variável. \n",
        "    Dica: \n",
        "        1. inicie uma lista vazia\n",
        "        2. faça um for ao longo dos nomes das variáveis, \n",
        "        3. conte o número de categorias dessa variável \n",
        "        4. acumule essa informação de 3. na lista que você criou em 1. \n",
        "        5. No final, essa lista pode ser atribuída à nossa variável.\n",
        "2.3. Crie variáveis dummy para as variáveis necessárias (i.e. aquelas que são qualitativas e não estão armazenadas como {0, 1} ou {True, False}."
      ]
    },
    {
      "cell_type": "code",
      "execution_count": 14,
      "metadata": {
        "id": "f8fxoWNmLDZi"
      },
      "outputs": [],
      "source": [
        "metadata = pd.DataFrame(df.dtypes, columns=['tipo_dados'])\n",
        "\n",
        "qtd_categorias = []\n",
        "for col in df.columns:\n",
        "    qtd_categorias.append(df[col].nunique())\n",
        "\n",
        "metadata['qtd_categorias'] = qtd_categorias\n",
        "\n",
        "categorical_columns = metadata.loc[(metadata['tipo_dados'] == 'object') & (metadata['qtd_categorias'] > 2)].index\n",
        "df = pd.get_dummies(df, columns=categorical_columns, drop_first=True)\n"
      ]
    },
    {
      "cell_type": "markdown",
      "metadata": {
        "id": "HbJKsaLELDZj"
      },
      "source": [
        "#### 3) Crie variáveis dummy para as variáveis necessárias (i.e. aquelas que são qualitativas e não estão armazenadas como {0, 1} ou {True, False}. Crie um *dataframe* apenas com as variáveis apropriadas para entrada no scikitlearn - elimine as variáveis tipo *str*, mantendo apenas suas versões *dummy*."
      ]
    },
    {
      "cell_type": "code",
      "execution_count": 15,
      "metadata": {
        "id": "8D9FYCpxLDZj"
      },
      "outputs": [],
      "source": [
        "df_sklearn = df.select_dtypes(exclude='object')"
      ]
    },
    {
      "cell_type": "markdown",
      "metadata": {
        "id": "_CXv5LWzLDZj"
      },
      "source": [
        "#### 4) Qual variável é mais poderosa?\n",
        "\n",
        "Considere as variáveis ```possui_email``` e ```posse_de_veiculo```. Faça uma tabela cruzada entre elas e responda qual delas te parece mais poderosa para prever a probabilidade de ```mau = 1```?"
      ]
    },
    {
      "cell_type": "code",
      "execution_count": 16,
      "metadata": {
        "colab": {
          "base_uri": "https://localhost:8080/"
        },
        "id": "oY5mpp3BLDZj",
        "outputId": "c6c30589-5857-42d3-cb2a-1a3e300c6add"
      },
      "outputs": [
        {
          "output_type": "stream",
          "name": "stdout",
          "text": [
            "mau                0         1\n",
            "FLAG_EMAIL                    \n",
            "0           0.985182  0.014818\n",
            "1           0.984473  0.015527\n",
            "mau                  0         1\n",
            "FLAG_OWN_CAR                    \n",
            "N             0.984781  0.015219\n",
            "Y             0.985639  0.014361\n"
          ]
        }
      ],
      "source": [
        "ct = pd.crosstab(df['FLAG_EMAIL'], df['mau'], normalize='index')\n",
        "ct2 = pd.crosstab(df['FLAG_OWN_CAR'], df['mau'], normalize='index')\n",
        "print(ct)\n",
        "print(ct2)"
      ]
    },
    {
      "cell_type": "markdown",
      "metadata": {
        "id": "EC_bc5mOLDZk"
      },
      "source": [
        "#### 5) Salve a base, pois ela será utilizada no final deste módulo."
      ]
    },
    {
      "cell_type": "code",
      "execution_count": 17,
      "metadata": {
        "id": "k8MtN3mYLDZk"
      },
      "outputs": [],
      "source": [
        "df_sklearn.to_csv('base_preparada.csv', index=False)\n"
      ]
    }
  ],
  "metadata": {
    "kernelspec": {
      "display_name": "Python 3",
      "language": "python",
      "name": "python3"
    },
    "language_info": {
      "codemirror_mode": {
        "name": "ipython",
        "version": 3
      },
      "file_extension": ".py",
      "mimetype": "text/x-python",
      "name": "python",
      "nbconvert_exporter": "python",
      "pygments_lexer": "ipython3",
      "version": "3.8.5"
    },
    "colab": {
      "provenance": []
    }
  },
  "nbformat": 4,
  "nbformat_minor": 0
}