{
  "cells": [
    {
      "cell_type": "markdown",
      "metadata": {
        "id": "T0M0-5YWibfC"
      },
      "source": [
        "# Módulo 5 Tarefa 1\n",
        "## Base de nascidos vivos do DataSUS\n",
        "O DataSUS disponibiliza diversos arquivos de dados com relação a seus segurados, conforme a [lei da transparência de informações públicas](https://www.sisgov.com/transparencia-acesso-informacao/#:~:text=A%20Lei%20da%20Transpar%C3%AAncia%20(LC,em%20um%20site%20na%20internet.). \n",
        "\n",
        "Essas informações podem ser obtidas pela internet [aqui](http://www2.datasus.gov.br/DATASUS/index.php?area=0901&item=1). Como o processo de obtenção desses arquivos foge um pouco do nosso escopo, deixamos o arquivo ```SINASC_RO_2019.csv``` já como vai ser encontrado no DataSUS. O dicionário de dados está no arquivo ```estrutura_sinasc_para_CD.pdf``` (o nome do arquivo tal qual no portal do DataSUS).\n",
        "\n",
        "### Nosso objetivo\n",
        "Queremos deixar uma base organizada para podermos estudar a relação entre partos com risco para o bebê e algumas condições como tempo de parto, consultas de pré-natal etc.\n",
        "\n",
        "#### Preparação da base\n",
        "1. Carregue a base 'SINASC_RO_2019.csv'. Conte o número de registros e o número de registros não duplicados da base. Dica: você aprendeu um método que remove duplicados, encadeie este método com um outro método que conta o número de linhas. **Há linhas duplicadas?**  \n",
        "\n",
        "2. Conte o número de valores *missing* por variável.  \n",
        "\n",
        "3. Ok, no item anterior você deve ter achado pouco prático ler a informação de tantas variáveis, muitas delas nem devem ser interesantes. Então crie uma seleção dessa base somente com as colunas que interessam. São elas:\n",
        "``` \n",
        "['LOCNASC', 'IDADEMAE', 'ESTCIVMAE', 'ESCMAE', 'QTDFILVIVO', \n",
        "    'GESTACAO', 'GRAVIDEZ', 'CONSULTAS', 'APGAR5'] \n",
        "```\n",
        "Refaça a contagem de valores *missings*.  \n",
        "\n",
        "4. Apgar é uma *nota* que o pediatra dá ao bebê quando nasce de acordo com algumas características associadas principalmente à respiração. Apgar 1 e Apgar 5 são as notas 1 e 5 minutos do nascimento. Apgar5 será a nossa variável de interesse principal. Então remova todos os registros com Apgar5 não preenchido. Para esta seleção, conte novamente o número de linhas e o número de *missings*.  \n",
        "\n",
        "5. observe que as variáveis ```['ESTCIVMAE', 'CONSULTAS']``` possuem o código ```9```, que significa *ignorado*. Vamos assumir que o não preenchido é o mesmo que o código ```9```.<br>\n",
        "6. Substitua os valores faltantes da quantitativa (```QTDFILVIVO```) por zero.  \n",
        "7. Das restantes, decida que valore te parece mais adequado (um 'não preenchido' ou um valor 'mais provável' como no item anterior) e preencha. Justifique. Lembre-se de que tratamento de dados é trabalho do cientista, e que estamos tomando decisões a todo o momento - não há necessariamente certo e errado aqui.  \n",
        "8. O Apgar possui uma classificação indicando se o bebê passou por asfixia:\n",
        "- Entre 8 e 10 está em uma faixa 'normal'. \n",
        "- Entre 6 e 7, significa que o recém-nascido passou por 'asfixia leve'. \n",
        "- Entre 4 e 5 significa 'asfixia moderada'.\n",
        "- Entre 0 e 3 significa 'asfixia severa'.  \n",
        "\n",
        "Crie uma categorização dessa variável com essa codificação e calcule as frequências dessa categorização.  \n",
        "<br>\n",
        "9. Renomeie as variáveis para que fiquem no *snake case*, ou seja, em letras minúsculas, com um *underscore* entre as palávras. Dica: repare que se você não quiser criar um *dataframe* novo, você vai precisar usar a opção ```inplace = True```."
      ]
    },
    {
      "cell_type": "code",
      "execution_count": 2,
      "metadata": {
        "colab": {
          "base_uri": "https://localhost:8080/"
        },
        "id": "4rPQ_9RnibfD",
        "outputId": "9a172d4a-1c79-4f1c-fc21-345294bb927b"
      },
      "outputs": [
        {
          "output_type": "stream",
          "name": "stdout",
          "text": [
            "(6876, 69)\n"
          ]
        },
        {
          "output_type": "execute_result",
          "data": {
            "text/plain": [
              "(6876, 69)"
            ]
          },
          "metadata": {},
          "execution_count": 2
        }
      ],
      "source": [
        "import pandas as pd\n",
        "import requests\n",
        "\n",
        "# 1) seu código aqui\n",
        "sinasc = pd.read_csv('SINASC_RO_2019.csv')\n",
        "print(sinasc.shape)\n",
        "sinasc.drop_duplicates().shape\n",
        "# Não há duplicados"
      ]
    },
    {
      "cell_type": "code",
      "execution_count": 3,
      "metadata": {
        "colab": {
          "base_uri": "https://localhost:8080/"
        },
        "id": "p8w-TRJ7ibfE",
        "outputId": "6f0bc41c-8c2b-4b1f-c310-6f5022f5a771"
      },
      "outputs": [
        {
          "output_type": "stream",
          "name": "stdout",
          "text": [
            "ORIGEM         0\n",
            "CODESTAB      24\n",
            "CODMUNNASC     0\n",
            "LOCNASC        0\n",
            "IDADEMAE       0\n",
            "              ..\n",
            "munResUf       1\n",
            "munResLat      2\n",
            "munResLon      2\n",
            "munResAlt      2\n",
            "munResArea     2\n",
            "Length: 69, dtype: int64\n"
          ]
        }
      ],
      "source": [
        "# 2) seu código aqui\n",
        "print(sinasc.isnull().sum())\n"
      ]
    },
    {
      "cell_type": "code",
      "execution_count": 4,
      "metadata": {
        "colab": {
          "base_uri": "https://localhost:8080/"
        },
        "id": "4vgHRBJhibfE",
        "outputId": "c9d77a2b-1378-48ed-de30-ac3bd21ca34f"
      },
      "outputs": [
        {
          "output_type": "stream",
          "name": "stdout",
          "text": [
            "LOCNASC         0\n",
            "IDADEMAE        0\n",
            "ESTCIVMAE      83\n",
            "ESCMAE         51\n",
            "QTDFILVIVO    223\n",
            "GESTACAO      340\n",
            "GRAVIDEZ       15\n",
            "CONSULTAS       0\n",
            "APGAR5         18\n",
            "dtype: int64\n"
          ]
        }
      ],
      "source": [
        "# 3) seu código aqui\n",
        "colunas_interesse = ['LOCNASC', 'IDADEMAE', 'ESTCIVMAE', 'ESCMAE', 'QTDFILVIVO', 'GESTACAO', 'GRAVIDEZ', 'CONSULTAS', 'APGAR5']\n",
        "sinasc_interesse = sinasc[colunas_interesse]\n",
        "print(sinasc_interesse.isnull().sum())"
      ]
    },
    {
      "cell_type": "code",
      "execution_count": 6,
      "metadata": {
        "colab": {
          "base_uri": "https://localhost:8080/"
        },
        "id": "Svh-xrLSibfF",
        "outputId": "036ce1a0-03f9-4f88-d15e-e647a12dd4e8"
      },
      "outputs": [
        {
          "output_type": "stream",
          "name": "stdout",
          "text": [
            "(6858, 9)\n",
            "LOCNASC         0\n",
            "IDADEMAE        0\n",
            "ESTCIVMAE      81\n",
            "ESCMAE         51\n",
            "QTDFILVIVO    223\n",
            "GESTACAO      339\n",
            "GRAVIDEZ       15\n",
            "CONSULTAS       0\n",
            "APGAR5          0\n",
            "dtype: int64\n"
          ]
        }
      ],
      "source": [
        "# 4) seu código aqui\n",
        "sinasc_interesse = sinasc_interesse.dropna(subset=['APGAR5'])\n",
        "print(sinasc_interesse.shape)\n",
        "print(sinasc_interesse.isnull().sum())"
      ]
    },
    {
      "cell_type": "code",
      "execution_count": 7,
      "metadata": {
        "id": "-CVs9GDXibfF"
      },
      "outputs": [],
      "source": [
        "# 5) seu código aqui\n",
        "sinasc_interesse['ESTCIVMAE'] = sinasc_interesse['ESTCIVMAE'].fillna(9)\n",
        "sinasc_interesse['CONSULTAS'] = sinasc_interesse['CONSULTAS'].fillna(9)"
      ]
    },
    {
      "cell_type": "code",
      "execution_count": 8,
      "metadata": {
        "id": "RQ093ulbibfF"
      },
      "outputs": [],
      "source": [
        "# 6) Seu código aqui\n",
        "sinasc_interesse['QTDFILVIVO'] = sinasc_interesse['QTDFILVIVO'].fillna(0)"
      ]
    },
    {
      "cell_type": "code",
      "execution_count": 9,
      "metadata": {
        "id": "eMLI-zNHibfF"
      },
      "outputs": [],
      "source": [
        "# 7) seu código aqui\n",
        "sinasc_interesse['IDADEMAE'] = sinasc_interesse['IDADEMAE'].fillna(9)\n",
        "sinasc_interesse['ESCMAE'] = sinasc_interesse['ESCMAE'].fillna(9)\n",
        "sinasc_interesse['GESTACAO'] = sinasc_interesse['GESTACAO'].fillna(9)\n",
        "sinasc_interesse['GRAVIDEZ'] = sinasc_interesse['GRAVIDEZ'].fillna(9)"
      ]
    },
    {
      "cell_type": "code",
      "execution_count": 11,
      "metadata": {
        "colab": {
          "base_uri": "https://localhost:8080/"
        },
        "id": "_DD1w91ribfF",
        "outputId": "22a26271-e2e1-4014-e358-46f71fa1320f"
      },
      "outputs": [
        {
          "output_type": "stream",
          "name": "stdout",
          "text": [
            "normal      6727\n",
            "leve          86\n",
            "severa        26\n",
            "moderada      19\n",
            "Name: apgar_cat, dtype: int64\n"
          ]
        }
      ],
      "source": [
        "# 8) seu código aqui\n",
        "def categorizar_apgar(apgar):\n",
        "  if apgar >= 8:\n",
        "    return 'normal'\n",
        "  elif apgar >= 6:\n",
        "    return 'leve'\n",
        "  elif apgar >= 4:\n",
        "    return 'moderada'\n",
        "  else:\n",
        "    return 'severa'\n",
        "\n",
        "sinasc_interesse['apgar_cat'] = sinasc_interesse['APGAR5'].apply(categorizar_apgar)\n",
        "print(sinasc_interesse['apgar_cat'].value_counts())"
      ]
    },
    {
      "cell_type": "code",
      "execution_count": 12,
      "metadata": {
        "colab": {
          "base_uri": "https://localhost:8080/"
        },
        "id": "iyAgR7yGibfG",
        "outputId": "2978b581-4ea2-44be-cee9-247584fe04ef"
      },
      "outputs": [
        {
          "output_type": "stream",
          "name": "stdout",
          "text": [
            "Index(['loc_nasc', 'idade_mae', 'est_civ_mae', 'esc_mae', 'qtd_fil_vivo',\n",
            "       'gestacao', 'gravidez', 'consultas', 'apgar5', 'apgar_cat'],\n",
            "      dtype='object')\n"
          ]
        }
      ],
      "source": [
        "# 9) seu código aqui\n",
        "sinasc_interesse.rename(columns={'LOCNASC': 'loc_nasc', 'IDADEMAE': 'idade_mae', 'ESTCIVMAE': 'est_civ_mae', 'ESCMAE': 'esc_mae',\n",
        "'QTDFILVIVO': 'qtd_fil_vivo', 'GESTACAO': 'gestacao', 'GRAVIDEZ': 'gravidez', 'CONSULTAS': 'consultas',\n",
        "'APGAR5': 'apgar5'}, inplace=True)\n",
        "\n",
        "print(sinasc_interesse.columns)"
      ]
    }
  ],
  "metadata": {
    "kernelspec": {
      "display_name": "Python 3",
      "language": "python",
      "name": "python3"
    },
    "language_info": {
      "codemirror_mode": {
        "name": "ipython",
        "version": 3
      },
      "file_extension": ".py",
      "mimetype": "text/x-python",
      "name": "python",
      "nbconvert_exporter": "python",
      "pygments_lexer": "ipython3",
      "version": "3.8.5"
    },
    "colab": {
      "provenance": [],
      "toc_visible": true
    }
  },
  "nbformat": 4,
  "nbformat_minor": 0
}