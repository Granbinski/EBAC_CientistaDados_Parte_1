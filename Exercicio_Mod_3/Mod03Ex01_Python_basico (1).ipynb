{
  "cells": [
    {
      "cell_type": "markdown",
      "metadata": {
        "id": "mMO_pmGp5Nkz"
      },
      "source": [
        "### 01 - Teste de gravidez\n",
        "Escreva uma célula com controle de fluxos que tem como premissa a existência das seguintes variáveis:\n",
        "\n",
        "- ```sexo``` como ```str``` indicando os valores '**M**' para masculino e '**F**' para feminino  \n",
        "- ```beta_hcg``` que indica a quantidade do beta-HCG no sangue em mUI/mL.\n",
        "\n",
        "A sua tarefa é escrever um código que imprima como resultado \"indivíduo do sexo masculino\" quando sexo = 'M', caso sexo = 'F', se o valor de beta-HCG for maior que 5, retorne \"Positivo\" indicando que a paciente está grávida, e retorne \"Negativo\" caso contrário.\n",
        "\n",
        "Não mexa nos valores da variável ```sexo``` nem em ```beta_hcg```, e escreva um código que funcione para quaisquer valores possíveis de ambos: ```sexo``` = '**M**' ou '**F**' e ```beta_hcg``` assumindo valores inteiros positivos."
      ]
    },
    {
      "cell_type": "code",
      "execution_count": 11,
      "metadata": {
        "colab": {
          "base_uri": "https://localhost:8080/"
        },
        "id": "l2Qvme5u5Nk2",
        "outputId": "a66db28b-6d56-4d3c-c13e-a8c5116551e0"
      },
      "outputs": [
        {
          "output_type": "stream",
          "name": "stdout",
          "text": [
            "Qual o seu sexo\n",
            "Insira M para masculino e F para feminino: F\n",
            "F\n",
            "Insira o valor de beta-HCG:4\n",
            "Resultado NEGATIVO\n"
          ]
        }
      ],
      "source": [
        "sexo = 'M'\n",
        "beta_hcg = 0\n",
        "\n",
        "# seu código vem abaixo desta linha\n",
        "print(\"Qual o seu sexo\")\n",
        "while True:\n",
        "    try:\n",
        "        sexo = input('Insira M para masculino e F para feminino: ').upper()\n",
        "        if isinstance(sexo, str) and (sexo == 'M' or sexo == 'F'):\n",
        "            break\n",
        "        else:\n",
        "            raise ValueError\n",
        "    except ValueError:\n",
        "        print(\"Valor inválido, por favor insira M ou F.\")\n",
        "print(sexo)\n",
        "if sexo == \"M\":\n",
        "  print(\"Idividuo do sexo masculino\")\n",
        "elif sexo == \"F\":\n",
        "  while True:\n",
        "    try:\n",
        "      beta_hcg = float(input(\"Insira o valor de beta-HCG:\"))\n",
        "      break\n",
        "    except:\n",
        "      print(\"digite um valor valido\")\n",
        "  if beta_hcg <= 5.0:\n",
        "    print(\"Resultado NEGATIVO\")\n",
        "  else:\n",
        "    print(\"Resultado POSITIVO\")"
      ]
    },
    {
      "cell_type": "markdown",
      "metadata": {
        "id": "ND_TFNv75Nk4"
      },
      "source": [
        "### 02 - Renomeando variáveis\n",
        "\n",
        "Vamos ver adiante que uma forma de renomear variáveis de um conjunto de dados é através de dicionários - o dicionário deve conter como chave o nome original, associando a cada chave um único valor (tipo *str*) que contenha o nome novo.\n",
        "\n",
        "A sua tarefa é escrever um dicionário que possa ser utilizado para traduzir as variáveis ```name``` (nome), ```age``` (idade) e ```income``` (renda). Ou seja, esse dicionário deve relacionar as chaves *name, age* e *income* às suas respectivas traduções."
      ]
    },
    {
      "cell_type": "code",
      "execution_count": 12,
      "metadata": {
        "colab": {
          "base_uri": "https://localhost:8080/"
        },
        "id": "gMDplI4u5Nk4",
        "outputId": "995b50d5-d913-45c0-df5f-de140421220a"
      },
      "outputs": [
        {
          "output_type": "execute_result",
          "data": {
            "text/plain": [
              "{'name': 'nome', 'age': 'idade', 'income': 'renda'}"
            ]
          },
          "metadata": {},
          "execution_count": 12
        }
      ],
      "source": [
        "dic_renomeacao = {'name': 'nome', 'age': 'idade', 'income': 'renda'}\n",
        "dic_renomeacao"
      ]
    },
    {
      "cell_type": "markdown",
      "metadata": {
        "id": "su6vqdZL5Nk5"
      },
      "source": [
        "### 03 - É divisível?\n",
        "A sua tarefa é escrever um código que indique se um número ```N``` é divisível por um número P. Escreva um programa que faça essa verificação para quaisquer combinações de ```N``` e ```M``` e devolva uma mensagem indicativa no output."
      ]
    },
    {
      "cell_type": "code",
      "execution_count": 14,
      "metadata": {
        "colab": {
          "base_uri": "https://localhost:8080/"
        },
        "id": "YHgE965D5Nk5",
        "outputId": "5f7b35fa-2fdc-4707-8b01-73ba9fdcf102"
      },
      "outputs": [
        {
          "output_type": "stream",
          "name": "stdout",
          "text": [
            "71 não é divisível por 7\n"
          ]
        }
      ],
      "source": [
        "N = 42\n",
        "M = 7\n",
        "\n",
        "#Seu código\n",
        "if N % M == 0:\n",
        "    print(f'{N} é divisível por {M}')\n",
        "else:\n",
        "    print(f'{N} não é divisível por {M}')"
      ]
    },
    {
      "cell_type": "markdown",
      "metadata": {
        "id": "HfmqlRyr5Nk6"
      },
      "source": [
        "### 04 - Números primos\n",
        "> Um número **N** é primo se e somente se é divisível por 1, -1, por **N** e por -**N**.  \n",
        "\n",
        "Escreva um script que verifica se ```N``` é um número primo, verificando se ```N``` é divisível por todos os números de ```1``` a ```N-1```. Você vai precisar usar alguma ferramenta de *loop* que você aprendeu para isto. No final, devolva uma mensagem no output indicando se o número é primo ou não."
      ]
    },
    {
      "cell_type": "code",
      "execution_count": 15,
      "metadata": {
        "colab": {
          "base_uri": "https://localhost:8080/"
        },
        "id": "_AA2cpOc5Nk6",
        "outputId": "23c37cf9-9f0a-45fe-9288-f1d7438a1472"
      },
      "outputs": [
        {
          "output_type": "stream",
          "name": "stdout",
          "text": [
            "47 é primo\n"
          ]
        }
      ],
      "source": [
        "N = 47\n",
        "\n",
        "# seu código abaixo\n",
        "for i in range(2, N):\n",
        "    if N % i == 0:\n",
        "        print(f'{N} não é primo')\n",
        "        break\n",
        "else:\n",
        "    print(f'{N} é primo')"
      ]
    },
    {
      "cell_type": "markdown",
      "metadata": {
        "id": "HGOdi7KT5Nk6"
      },
      "source": [
        "### 05 - Desafio\n",
        "O algorítmo do exercício anterior não é o mais eficiente. O que você pode fazer para deixá-lo mais eficiente? Ou seja, executar menos comparações, portanto consumir menos tempo.\n",
        "1. Será que precisamos correr o loop até o final sempre?\n",
        "2. Será que precisamos mesmo verificar **todos** os números?\n",
        "3. Será que precisamos ir até N-1?\n",
        "\n",
        "Essas perguntas levam ao tipo de pensamento voltado a deixar um algoritmo mais eficiente. Veja se você consegue melhorar o seu."
      ]
    },
    {
      "cell_type": "code",
      "execution_count": 17,
      "metadata": {
        "colab": {
          "base_uri": "https://localhost:8080/"
        },
        "id": "TIfNNJpW5Nk7",
        "outputId": "4d783754-44e3-4546-aa60-baba5683ace5"
      },
      "outputs": [
        {
          "output_type": "stream",
          "name": "stdout",
          "text": [
            "98 não é primo\n"
          ]
        }
      ],
      "source": [
        "import math\n",
        "N = 98\n",
        "# seu código aqui\n",
        "N = 98\n",
        "\n",
        "for i in range(2, int(math.sqrt(N))+1):\n",
        "    if N % i == 0:\n",
        "        print(f'{N} não é primo')\n",
        "        break\n",
        "else:\n",
        "    print(f'{N} é primo')\n",
        "\n"
      ]
    },
    {
      "cell_type": "markdown",
      "metadata": {
        "id": "JctHXTq45Nk7"
      },
      "source": [
        "### 06 - Peso ideal 1\n",
        "O IMC (índice de massa corpórea) é um indicador de saúde mais bem aceito que o peso. Ele é calculado como:\n",
        "\n",
        "$$ IMC = \\dfrac{peso}{altura^2}$$\n",
        "\n",
        "Segundo a OMS, valores *normais* são entre 18.5 e 24.9.\n",
        "\n",
        "Sua tarefa é encontrar o ponto médio dessa faixa."
      ]
    },
    {
      "cell_type": "code",
      "execution_count": 18,
      "metadata": {
        "colab": {
          "base_uri": "https://localhost:8080/"
        },
        "id": "VVg3spdI5Nk7",
        "outputId": "f4babf64-6d80-4c41-cfca-5e182fab5249"
      },
      "outputs": [
        {
          "output_type": "stream",
          "name": "stdout",
          "text": [
            "Insira seu peso em kg: 100\n",
            "Insira sua altura em metros: 1.85\n",
            "IMC ideal:  21.7\n"
          ]
        }
      ],
      "source": [
        "peso = float(input(\"Insira seu peso em kg: \"))\n",
        "altura = float(input(\"Insira sua altura em metros: \"))\n",
        "\n",
        "imc = peso / (altura**2)\n",
        "imc_ideal = (18.5 + 24.9) / 2\n",
        "print(\"IMC ideal: \", imc_ideal)\n"
      ]
    },
    {
      "cell_type": "markdown",
      "metadata": {
        "id": "QiAO_vF45Nk7"
      },
      "source": [
        "### 07 - Peso ideal 2\n",
        "Recebendo um valor de altura, encontre o peso '*ideal*' dessa pessoa, que fornece o IMC encontrado acima"
      ]
    },
    {
      "cell_type": "code",
      "execution_count": 20,
      "metadata": {
        "colab": {
          "base_uri": "https://localhost:8080/"
        },
        "id": "IfuPT0Al5Nk7",
        "outputId": "fa9e259b-bc33-43ad-9a90-51debc77c34b"
      },
      "outputs": [
        {
          "output_type": "execute_result",
          "data": {
            "text/plain": [
              "62.712999999999994"
            ]
          },
          "metadata": {},
          "execution_count": 20
        }
      ],
      "source": [
        "altura = 1.70\n",
        "\n",
        "# Seu código\n",
        "imc_ideal = (18.5 + 24.9) / 2\n",
        "peso_ideal = imc_ideal * (altura ** 2)\n",
        "peso_ideal"
      ]
    },
    {
      "cell_type": "markdown",
      "metadata": {
        "id": "sx0taQc15Nk8"
      },
      "source": [
        "### 08 - Peso ideal 3\n",
        "Dada uma lista contendo as alturas de pacientes, crie uma nova lista que contenha o peso '*ideal*' (que fornece o IMC calculado em **Peso ideal 1**) desses pacientes."
      ]
    },
    {
      "cell_type": "code",
      "execution_count": 22,
      "metadata": {
        "colab": {
          "base_uri": "https://localhost:8080/"
        },
        "id": "sqB6GEA05Nk8",
        "outputId": "37717e90-28be-4cc5-be46-85ed8bad135a"
      },
      "outputs": [
        {
          "output_type": "execute_result",
          "data": {
            "text/plain": [
              "[67.79024999999999]"
            ]
          },
          "metadata": {},
          "execution_count": 22
        }
      ],
      "source": [
        "lista_alturas = [1.95, 2.05, 1.70, 1.65]\n",
        "\n",
        "lista_peso_ideal = []\n",
        "\n",
        "# seu código\n",
        "\n",
        "for altura in lista_alturas:\n",
        "  peso_ideal = (24.9 * (altura ** 2))\n",
        "lista_peso_ideal.append(peso_ideal)\n",
        "\n",
        "lista_peso_ideal"
      ]
    },
    {
      "cell_type": "markdown",
      "metadata": {
        "id": "GXzrsUa95Nk8"
      },
      "source": [
        "### 09 - Peso ideal 4\n",
        "Dada uma lista de tuplas - cada elemento da lista é uma tupla contendo altura e peso de um paciente - crie uma nova lista com o IMC desses pacientes."
      ]
    },
    {
      "cell_type": "code",
      "execution_count": 23,
      "metadata": {
        "colab": {
          "base_uri": "https://localhost:8080/"
        },
        "id": "cUHQ8RDX5Nk8",
        "outputId": "0fb04985-7ed9-474d-9699-a750073124bd"
      },
      "outputs": [
        {
          "output_type": "execute_result",
          "data": {
            "text/plain": [
              "[27.777777777777775, 27.548209366391188, 19.188070502453332]"
            ]
          },
          "metadata": {},
          "execution_count": 23
        }
      ],
      "source": [
        "altura_peso = [(1.80, 90), (1.65, 75), (1.91, 70)]\n",
        "\n",
        "imc = []\n",
        "\n",
        "# seu código\n",
        "\n",
        "for pessoa in altura_peso:\n",
        "  imc.append(pessoa[1] / (pessoa[0] ** 2))\n",
        "imc"
      ]
    },
    {
      "cell_type": "markdown",
      "metadata": {
        "id": "eRhGrtez5Nk9"
      },
      "source": [
        "### 10 - Peso ideal 5\n",
        "Dada uma lista de **listas** - cada elemento da lista é uma **lista** contendo altura e peso de um paciente, adicione mais um elemento à lista de cada paciente contendo o IMC do paciente. Verifique também se é 'baixo', 'normal' ou 'alto' segundo os padrões da OMS em que normal é entre 18.5 e 24.9.\n",
        "\n",
        "Reflexão: por que no problema anterior temos que criar uma nova lista, e não podemos adicionar os dados de cada indivíduo à tupla?"
      ]
    },
    {
      "cell_type": "code",
      "execution_count": 24,
      "metadata": {
        "colab": {
          "base_uri": "https://localhost:8080/"
        },
        "id": "7b3puRtF5Nk9",
        "outputId": "f5f66629-50ed-4252-efbb-58fd067dedc2"
      },
      "outputs": [
        {
          "output_type": "stream",
          "name": "stdout",
          "text": [
            "[[1.8, 90, 27.777777777777775, 'alto'], [1.65, 75, 27.548209366391188, 'alto'], [1.91, 70, 19.188070502453332, 'normal']]\n"
          ]
        }
      ],
      "source": [
        "altura_peso = [[1.80, 90], [1.65, 75], [1.91, 70]]\n",
        "\n",
        "# seu código\n",
        "\n",
        "for i in range(len(altura_peso)):\n",
        "    altura = altura_peso[i][0]\n",
        "    peso = altura_peso[i][1]\n",
        "    imc = peso / (altura**2)\n",
        "    altura_peso[i].append(imc)\n",
        "    if imc < 18.5:\n",
        "        altura_peso[i].append(\"baixo\")\n",
        "    elif imc >= 18.5 and imc <= 24.9:\n",
        "        altura_peso[i].append(\"normal\")\n",
        "    else:\n",
        "        altura_peso[i].append(\"alto\")\n",
        "\n",
        "print(altura_peso)"
      ]
    },
    {
      "cell_type": "markdown",
      "source": [
        "Tuplas são imutáveis, já listas são mutáveis, dando-me mais liberdade para trabalhar com valores e alterá-los.\n"
      ],
      "metadata": {
        "id": "mhFSdMl5Iwuq"
      }
    }
  ],
  "metadata": {
    "kernelspec": {
      "display_name": "Python 3",
      "language": "python",
      "name": "python3"
    },
    "language_info": {
      "codemirror_mode": {
        "name": "ipython",
        "version": 3
      },
      "file_extension": ".py",
      "mimetype": "text/x-python",
      "name": "python",
      "nbconvert_exporter": "python",
      "pygments_lexer": "ipython3",
      "version": "3.8.5"
    },
    "colab": {
      "provenance": []
    }
  },
  "nbformat": 4,
  "nbformat_minor": 0
}